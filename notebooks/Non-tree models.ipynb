{
 "cells": [
  {
   "cell_type": "code",
   "execution_count": null,
   "id": "d8fab7ab",
   "metadata": {},
   "outputs": [],
   "source": [
    "import pandas as pd\n",
    "from sklearn.preprocessing import MinMaxScaler, StandardScaler\n",
    "from sklearn.model_selection import train_test_split"
   ]
  },
  {
   "cell_type": "code",
   "execution_count": null,
   "id": "d6ccfc20",
   "metadata": {},
   "outputs": [],
   "source": [
    "path = 'D:/work/pythonPractice/big projects/Blitzkrieg'\n",
    "df = pd.read_csv(path + '/Original/dis-GD Case_study.csv')\n",
    "df.shape"
   ]
  },
  {
   "cell_type": "markdown",
   "id": "6b306405",
   "metadata": {},
   "source": [
    "### Splitting the dataset"
   ]
  },
  {
   "cell_type": "code",
   "execution_count": null,
   "id": "2aebfd4f",
   "metadata": {},
   "outputs": [],
   "source": [
    "X_train, X_test, y_train, y_test = train_test_split(df.iloc[:,:-1],df.iloc[:,-1],test_size=0.2,random_state=69)\n",
    "X_train_stud = X_train.copy()\n",
    "X_test_stud = X_test.copy()"
   ]
  },
  {
   "cell_type": "markdown",
   "id": "e2d87429",
   "metadata": {},
   "source": [
    "### Normalizing values for continuous variables"
   ]
  },
  {
   "cell_type": "code",
   "execution_count": null,
   "id": "ce5454d5",
   "metadata": {},
   "outputs": [],
   "source": [
    "norm = MinMaxScaler().fit(X_train)\n",
    "\n",
    "X_train_norm = norm.transform(X_train)\n",
    "X_test_norm = norm.transform(X_test)"
   ]
  },
  {
   "cell_type": "markdown",
   "id": "df360dd5",
   "metadata": {},
   "source": [
    "### Standardizing values for continouos variables"
   ]
  },
  {
   "cell_type": "code",
   "execution_count": null,
   "id": "5d6f1a12",
   "metadata": {},
   "outputs": [],
   "source": [
    "num_cols = ['Monthly_charges','tenure','Total_charges']\n",
    "\n",
    "for i in num_cols:\n",
    "    scale = StandardScaler().fit(X_train_stud[i])\n",
    "    X_train_stud[i] = scale.transform(X_train_stud[i])\n",
    "    X_test_stud[i] = scale.transform(X_test_stud[i])"
   ]
  }
 ],
 "metadata": {
  "kernelspec": {
   "display_name": "Python 3 (ipykernel)",
   "language": "python",
   "name": "python3"
  },
  "language_info": {
   "codemirror_mode": {
    "name": "ipython",
    "version": 3
   },
   "file_extension": ".py",
   "mimetype": "text/x-python",
   "name": "python",
   "nbconvert_exporter": "python",
   "pygments_lexer": "ipython3",
   "version": "3.9.1"
  }
 },
 "nbformat": 4,
 "nbformat_minor": 5
}
