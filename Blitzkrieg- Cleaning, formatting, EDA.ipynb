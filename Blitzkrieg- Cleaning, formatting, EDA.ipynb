{
 "cells": [
  {
   "cell_type": "code",
   "execution_count": 1,
   "id": "divided-failing",
   "metadata": {},
   "outputs": [
    {
     "ename": "ModuleNotFoundError",
     "evalue": "No module named 'seaborn'",
     "output_type": "error",
     "traceback": [
      "\u001b[1;31m---------------------------------------------------------------------------\u001b[0m",
      "\u001b[1;31mModuleNotFoundError\u001b[0m                       Traceback (most recent call last)",
      "\u001b[1;32m<ipython-input-1-ccb0dfe8f05e>\u001b[0m in \u001b[0;36m<module>\u001b[1;34m\u001b[0m\n\u001b[0;32m      1\u001b[0m \u001b[1;32mimport\u001b[0m \u001b[0mpandas\u001b[0m \u001b[1;32mas\u001b[0m \u001b[0mpd\u001b[0m\u001b[1;33m\u001b[0m\u001b[1;33m\u001b[0m\u001b[0m\n\u001b[0;32m      2\u001b[0m \u001b[1;32mimport\u001b[0m \u001b[0mnumpy\u001b[0m \u001b[1;32mas\u001b[0m \u001b[0mnp\u001b[0m\u001b[1;33m\u001b[0m\u001b[1;33m\u001b[0m\u001b[0m\n\u001b[1;32m----> 3\u001b[1;33m \u001b[1;32mimport\u001b[0m \u001b[0mseaborn\u001b[0m \u001b[1;32mas\u001b[0m \u001b[0msns\u001b[0m\u001b[1;33m\u001b[0m\u001b[1;33m\u001b[0m\u001b[0m\n\u001b[0m\u001b[0;32m      4\u001b[0m \u001b[1;32mimport\u001b[0m \u001b[0mmatplotlib\u001b[0m\u001b[1;33m.\u001b[0m\u001b[0mpyplot\u001b[0m \u001b[1;32mas\u001b[0m \u001b[0mplt\u001b[0m\u001b[1;33m\u001b[0m\u001b[1;33m\u001b[0m\u001b[0m\n\u001b[0;32m      5\u001b[0m \u001b[1;32mimport\u001b[0m \u001b[0mwarnings\u001b[0m\u001b[1;33m\u001b[0m\u001b[1;33m\u001b[0m\u001b[0m\n",
      "\u001b[1;31mModuleNotFoundError\u001b[0m: No module named 'seaborn'"
     ]
    }
   ],
   "source": [
    "import pandas as pd\n",
    "import numpy as np\n",
    "import seaborn as sns\n",
    "import matplotlib.pyplot as plt\n",
    "import warnings\n",
    "warnings.filterwarnings('ignore')"
   ]
  },
  {
   "cell_type": "markdown",
   "id": "prescription-arabic",
   "metadata": {},
   "source": [
    "**IMPORTING THE DATASET**"
   ]
  },
  {
   "cell_type": "code",
   "execution_count": 2,
   "id": "threaded-corpus",
   "metadata": {},
   "outputs": [
    {
     "data": {
      "text/plain": [
       "(7044, 21)"
      ]
     },
     "execution_count": 2,
     "metadata": {},
     "output_type": "execute_result"
    }
   ],
   "source": [
    "path = 'D:/work/pythonPractice/big projects/Blitzkrieg/Original'\n",
    "df = pd.read_csv(path + '/Case Data.csv')\n",
    "df.shape"
   ]
  },
  {
   "cell_type": "code",
   "execution_count": 3,
   "id": "empty-stewart",
   "metadata": {},
   "outputs": [
    {
     "name": "stdout",
     "output_type": "stream",
     "text": [
      "<class 'pandas.core.frame.DataFrame'>\n",
      "RangeIndex: 7044 entries, 0 to 7043\n",
      "Data columns (total 21 columns):\n",
      " #   Column             Non-Null Count  Dtype  \n",
      "---  ------             --------------  -----  \n",
      " 0   customerID         7044 non-null   object \n",
      " 1   gender             7044 non-null   object \n",
      " 2   Senior_Citizen     7044 non-null   int64  \n",
      " 3   Partner            7044 non-null   object \n",
      " 4   Dependents         7044 non-null   object \n",
      " 5   tenure             7044 non-null   int64  \n",
      " 6   Phone_Service      7044 non-null   object \n",
      " 7   Multiple_Lines     7044 non-null   object \n",
      " 8   Internet_Service   7044 non-null   object \n",
      " 9   Online_Security    7044 non-null   object \n",
      " 10  Online_Backup      7044 non-null   object \n",
      " 11  Device_Protection  7044 non-null   object \n",
      " 12  Tech_Support       7044 non-null   object \n",
      " 13  Streaming_TV       7044 non-null   object \n",
      " 14  Streaming_Movies   7044 non-null   object \n",
      " 15  Contract           7044 non-null   object \n",
      " 16  Paperless_Billing  7044 non-null   object \n",
      " 17  Payment_Method     7044 non-null   object \n",
      " 18  Monthly_Charges    7044 non-null   float64\n",
      " 19  Total_Charges      7044 non-null   object \n",
      " 20  Churn              7044 non-null   object \n",
      "dtypes: float64(1), int64(2), object(18)\n",
      "memory usage: 1.1+ MB\n"
     ]
    }
   ],
   "source": [
    "df.info()"
   ]
  },
  {
   "cell_type": "code",
   "execution_count": 4,
   "id": "twelve-island",
   "metadata": {},
   "outputs": [
    {
     "data": {
      "text/html": [
       "<div>\n",
       "<style scoped>\n",
       "    .dataframe tbody tr th:only-of-type {\n",
       "        vertical-align: middle;\n",
       "    }\n",
       "\n",
       "    .dataframe tbody tr th {\n",
       "        vertical-align: top;\n",
       "    }\n",
       "\n",
       "    .dataframe thead th {\n",
       "        text-align: right;\n",
       "    }\n",
       "</style>\n",
       "<table border=\"1\" class=\"dataframe\">\n",
       "  <thead>\n",
       "    <tr style=\"text-align: right;\">\n",
       "      <th></th>\n",
       "      <th>customerID</th>\n",
       "      <th>gender</th>\n",
       "      <th>Senior_Citizen</th>\n",
       "      <th>Partner</th>\n",
       "      <th>Dependents</th>\n",
       "      <th>tenure</th>\n",
       "      <th>Phone_Service</th>\n",
       "      <th>Multiple_Lines</th>\n",
       "      <th>Internet_Service</th>\n",
       "      <th>Online_Security</th>\n",
       "      <th>...</th>\n",
       "      <th>Device_Protection</th>\n",
       "      <th>Tech_Support</th>\n",
       "      <th>Streaming_TV</th>\n",
       "      <th>Streaming_Movies</th>\n",
       "      <th>Contract</th>\n",
       "      <th>Paperless_Billing</th>\n",
       "      <th>Payment_Method</th>\n",
       "      <th>Monthly_Charges</th>\n",
       "      <th>Total_Charges</th>\n",
       "      <th>Churn</th>\n",
       "    </tr>\n",
       "  </thead>\n",
       "  <tbody>\n",
       "    <tr>\n",
       "      <th>0</th>\n",
       "      <td>57590-VHVEG</td>\n",
       "      <td>Female</td>\n",
       "      <td>0</td>\n",
       "      <td>Yes</td>\n",
       "      <td>No</td>\n",
       "      <td>1</td>\n",
       "      <td>No</td>\n",
       "      <td>No phone service</td>\n",
       "      <td>DSL</td>\n",
       "      <td>No</td>\n",
       "      <td>...</td>\n",
       "      <td>No</td>\n",
       "      <td>No</td>\n",
       "      <td>No</td>\n",
       "      <td>No</td>\n",
       "      <td>Month-to-month</td>\n",
       "      <td>Yes</td>\n",
       "      <td>Electronic check</td>\n",
       "      <td>29.85</td>\n",
       "      <td>29.85</td>\n",
       "      <td>No</td>\n",
       "    </tr>\n",
       "    <tr>\n",
       "      <th>1</th>\n",
       "      <td>65575-GNVDE</td>\n",
       "      <td>Male</td>\n",
       "      <td>0</td>\n",
       "      <td>No</td>\n",
       "      <td>No</td>\n",
       "      <td>34</td>\n",
       "      <td>Yes</td>\n",
       "      <td>No</td>\n",
       "      <td>DSL</td>\n",
       "      <td>Yes</td>\n",
       "      <td>...</td>\n",
       "      <td>Yes</td>\n",
       "      <td>No</td>\n",
       "      <td>No</td>\n",
       "      <td>No</td>\n",
       "      <td>One year</td>\n",
       "      <td>No</td>\n",
       "      <td>Mailed check</td>\n",
       "      <td>56.95</td>\n",
       "      <td>1889.5</td>\n",
       "      <td>No</td>\n",
       "    </tr>\n",
       "    <tr>\n",
       "      <th>2</th>\n",
       "      <td>73668-QPYBK</td>\n",
       "      <td>Male</td>\n",
       "      <td>0</td>\n",
       "      <td>No</td>\n",
       "      <td>No</td>\n",
       "      <td>2</td>\n",
       "      <td>Yes</td>\n",
       "      <td>No</td>\n",
       "      <td>DSL</td>\n",
       "      <td>Yes</td>\n",
       "      <td>...</td>\n",
       "      <td>No</td>\n",
       "      <td>No</td>\n",
       "      <td>No</td>\n",
       "      <td>No</td>\n",
       "      <td>Month-to-month</td>\n",
       "      <td>Yes</td>\n",
       "      <td>Mailed check</td>\n",
       "      <td>53.85</td>\n",
       "      <td>108.15</td>\n",
       "      <td>Yes</td>\n",
       "    </tr>\n",
       "    <tr>\n",
       "      <th>3</th>\n",
       "      <td>57795-CFOCW</td>\n",
       "      <td>Male</td>\n",
       "      <td>0</td>\n",
       "      <td>No</td>\n",
       "      <td>No</td>\n",
       "      <td>45</td>\n",
       "      <td>No</td>\n",
       "      <td>No phone service</td>\n",
       "      <td>DSL</td>\n",
       "      <td>Yes</td>\n",
       "      <td>...</td>\n",
       "      <td>Yes</td>\n",
       "      <td>Yes</td>\n",
       "      <td>No</td>\n",
       "      <td>No</td>\n",
       "      <td>One year</td>\n",
       "      <td>No</td>\n",
       "      <td>Bank transfer (automatic)</td>\n",
       "      <td>42.30</td>\n",
       "      <td>1840.75</td>\n",
       "      <td>No</td>\n",
       "    </tr>\n",
       "    <tr>\n",
       "      <th>4</th>\n",
       "      <td>49237-HQITU</td>\n",
       "      <td>Female</td>\n",
       "      <td>0</td>\n",
       "      <td>No</td>\n",
       "      <td>No</td>\n",
       "      <td>2</td>\n",
       "      <td>Yes</td>\n",
       "      <td>No</td>\n",
       "      <td>Fiber optic</td>\n",
       "      <td>No</td>\n",
       "      <td>...</td>\n",
       "      <td>No</td>\n",
       "      <td>No</td>\n",
       "      <td>No</td>\n",
       "      <td>No</td>\n",
       "      <td>Month-to-month</td>\n",
       "      <td>Yes</td>\n",
       "      <td>Electronic check</td>\n",
       "      <td>70.70</td>\n",
       "      <td>151.65</td>\n",
       "      <td>Yes</td>\n",
       "    </tr>\n",
       "  </tbody>\n",
       "</table>\n",
       "<p>5 rows × 21 columns</p>\n",
       "</div>"
      ],
      "text/plain": [
       "    customerID  gender  Senior_Citizen Partner Dependents  tenure  \\\n",
       "0  57590-VHVEG  Female               0     Yes         No       1   \n",
       "1  65575-GNVDE    Male               0      No         No      34   \n",
       "2  73668-QPYBK    Male               0      No         No       2   \n",
       "3  57795-CFOCW    Male               0      No         No      45   \n",
       "4  49237-HQITU  Female               0      No         No       2   \n",
       "\n",
       "  Phone_Service    Multiple_Lines Internet_Service Online_Security  ...  \\\n",
       "0            No  No phone service              DSL              No  ...   \n",
       "1           Yes                No              DSL             Yes  ...   \n",
       "2           Yes                No              DSL             Yes  ...   \n",
       "3            No  No phone service              DSL             Yes  ...   \n",
       "4           Yes                No      Fiber optic              No  ...   \n",
       "\n",
       "  Device_Protection Tech_Support Streaming_TV Streaming_Movies  \\\n",
       "0                No           No           No               No   \n",
       "1               Yes           No           No               No   \n",
       "2                No           No           No               No   \n",
       "3               Yes          Yes           No               No   \n",
       "4                No           No           No               No   \n",
       "\n",
       "         Contract Paperless_Billing             Payment_Method  \\\n",
       "0  Month-to-month               Yes           Electronic check   \n",
       "1        One year                No               Mailed check   \n",
       "2  Month-to-month               Yes               Mailed check   \n",
       "3        One year                No  Bank transfer (automatic)   \n",
       "4  Month-to-month               Yes           Electronic check   \n",
       "\n",
       "  Monthly_Charges  Total_Charges Churn  \n",
       "0           29.85          29.85    No  \n",
       "1           56.95         1889.5    No  \n",
       "2           53.85         108.15   Yes  \n",
       "3           42.30        1840.75    No  \n",
       "4           70.70         151.65   Yes  \n",
       "\n",
       "[5 rows x 21 columns]"
      ]
     },
     "execution_count": 4,
     "metadata": {},
     "output_type": "execute_result"
    }
   ],
   "source": [
    "df.head()"
   ]
  },
  {
   "cell_type": "markdown",
   "id": "chronic-feature",
   "metadata": {},
   "source": [
    "Here, **Monthly_Charges** and **Total_Charges** both should be float64 types, but are not.This will later be checked for null values and outliers. \n",
    "Also, the customerID column will be unique for each row/customer and thus has no relation to churnability. So, the column will be deleted."
   ]
  },
  {
   "cell_type": "code",
   "execution_count": 5,
   "id": "forty-penetration",
   "metadata": {},
   "outputs": [
    {
     "data": {
      "text/html": [
       "<div>\n",
       "<style scoped>\n",
       "    .dataframe tbody tr th:only-of-type {\n",
       "        vertical-align: middle;\n",
       "    }\n",
       "\n",
       "    .dataframe tbody tr th {\n",
       "        vertical-align: top;\n",
       "    }\n",
       "\n",
       "    .dataframe thead th {\n",
       "        text-align: right;\n",
       "    }\n",
       "</style>\n",
       "<table border=\"1\" class=\"dataframe\">\n",
       "  <thead>\n",
       "    <tr style=\"text-align: right;\">\n",
       "      <th></th>\n",
       "      <th>gender</th>\n",
       "      <th>Senior_Citizen</th>\n",
       "      <th>Partner</th>\n",
       "      <th>Dependents</th>\n",
       "      <th>tenure</th>\n",
       "      <th>Phone_Service</th>\n",
       "      <th>Multiple_Lines</th>\n",
       "      <th>Internet_Service</th>\n",
       "      <th>Online_Security</th>\n",
       "      <th>Online_Backup</th>\n",
       "      <th>Device_Protection</th>\n",
       "      <th>Tech_Support</th>\n",
       "      <th>Streaming_TV</th>\n",
       "      <th>Streaming_Movies</th>\n",
       "      <th>Contract</th>\n",
       "      <th>Paperless_Billing</th>\n",
       "      <th>Payment_Method</th>\n",
       "      <th>Monthly_Charges</th>\n",
       "      <th>Total_Charges</th>\n",
       "      <th>Churn</th>\n",
       "    </tr>\n",
       "  </thead>\n",
       "  <tbody>\n",
       "    <tr>\n",
       "      <th>0</th>\n",
       "      <td>Female</td>\n",
       "      <td>0</td>\n",
       "      <td>Yes</td>\n",
       "      <td>No</td>\n",
       "      <td>1</td>\n",
       "      <td>No</td>\n",
       "      <td>No phone service</td>\n",
       "      <td>DSL</td>\n",
       "      <td>No</td>\n",
       "      <td>Yes</td>\n",
       "      <td>No</td>\n",
       "      <td>No</td>\n",
       "      <td>No</td>\n",
       "      <td>No</td>\n",
       "      <td>Month-to-month</td>\n",
       "      <td>Yes</td>\n",
       "      <td>Electronic check</td>\n",
       "      <td>29.85</td>\n",
       "      <td>29.85</td>\n",
       "      <td>No</td>\n",
       "    </tr>\n",
       "    <tr>\n",
       "      <th>1</th>\n",
       "      <td>Male</td>\n",
       "      <td>0</td>\n",
       "      <td>No</td>\n",
       "      <td>No</td>\n",
       "      <td>34</td>\n",
       "      <td>Yes</td>\n",
       "      <td>No</td>\n",
       "      <td>DSL</td>\n",
       "      <td>Yes</td>\n",
       "      <td>No</td>\n",
       "      <td>Yes</td>\n",
       "      <td>No</td>\n",
       "      <td>No</td>\n",
       "      <td>No</td>\n",
       "      <td>One year</td>\n",
       "      <td>No</td>\n",
       "      <td>Mailed check</td>\n",
       "      <td>56.95</td>\n",
       "      <td>1889.5</td>\n",
       "      <td>No</td>\n",
       "    </tr>\n",
       "    <tr>\n",
       "      <th>2</th>\n",
       "      <td>Male</td>\n",
       "      <td>0</td>\n",
       "      <td>No</td>\n",
       "      <td>No</td>\n",
       "      <td>2</td>\n",
       "      <td>Yes</td>\n",
       "      <td>No</td>\n",
       "      <td>DSL</td>\n",
       "      <td>Yes</td>\n",
       "      <td>Yes</td>\n",
       "      <td>No</td>\n",
       "      <td>No</td>\n",
       "      <td>No</td>\n",
       "      <td>No</td>\n",
       "      <td>Month-to-month</td>\n",
       "      <td>Yes</td>\n",
       "      <td>Mailed check</td>\n",
       "      <td>53.85</td>\n",
       "      <td>108.15</td>\n",
       "      <td>Yes</td>\n",
       "    </tr>\n",
       "    <tr>\n",
       "      <th>3</th>\n",
       "      <td>Male</td>\n",
       "      <td>0</td>\n",
       "      <td>No</td>\n",
       "      <td>No</td>\n",
       "      <td>45</td>\n",
       "      <td>No</td>\n",
       "      <td>No phone service</td>\n",
       "      <td>DSL</td>\n",
       "      <td>Yes</td>\n",
       "      <td>No</td>\n",
       "      <td>Yes</td>\n",
       "      <td>Yes</td>\n",
       "      <td>No</td>\n",
       "      <td>No</td>\n",
       "      <td>One year</td>\n",
       "      <td>No</td>\n",
       "      <td>Bank transfer (automatic)</td>\n",
       "      <td>42.30</td>\n",
       "      <td>1840.75</td>\n",
       "      <td>No</td>\n",
       "    </tr>\n",
       "    <tr>\n",
       "      <th>4</th>\n",
       "      <td>Female</td>\n",
       "      <td>0</td>\n",
       "      <td>No</td>\n",
       "      <td>No</td>\n",
       "      <td>2</td>\n",
       "      <td>Yes</td>\n",
       "      <td>No</td>\n",
       "      <td>Fiber optic</td>\n",
       "      <td>No</td>\n",
       "      <td>No</td>\n",
       "      <td>No</td>\n",
       "      <td>No</td>\n",
       "      <td>No</td>\n",
       "      <td>No</td>\n",
       "      <td>Month-to-month</td>\n",
       "      <td>Yes</td>\n",
       "      <td>Electronic check</td>\n",
       "      <td>70.70</td>\n",
       "      <td>151.65</td>\n",
       "      <td>Yes</td>\n",
       "    </tr>\n",
       "  </tbody>\n",
       "</table>\n",
       "</div>"
      ],
      "text/plain": [
       "   gender  Senior_Citizen Partner Dependents  tenure Phone_Service  \\\n",
       "0  Female               0     Yes         No       1            No   \n",
       "1    Male               0      No         No      34           Yes   \n",
       "2    Male               0      No         No       2           Yes   \n",
       "3    Male               0      No         No      45            No   \n",
       "4  Female               0      No         No       2           Yes   \n",
       "\n",
       "     Multiple_Lines Internet_Service Online_Security Online_Backup  \\\n",
       "0  No phone service              DSL              No           Yes   \n",
       "1                No              DSL             Yes            No   \n",
       "2                No              DSL             Yes           Yes   \n",
       "3  No phone service              DSL             Yes            No   \n",
       "4                No      Fiber optic              No            No   \n",
       "\n",
       "  Device_Protection Tech_Support Streaming_TV Streaming_Movies  \\\n",
       "0                No           No           No               No   \n",
       "1               Yes           No           No               No   \n",
       "2                No           No           No               No   \n",
       "3               Yes          Yes           No               No   \n",
       "4                No           No           No               No   \n",
       "\n",
       "         Contract Paperless_Billing             Payment_Method  \\\n",
       "0  Month-to-month               Yes           Electronic check   \n",
       "1        One year                No               Mailed check   \n",
       "2  Month-to-month               Yes               Mailed check   \n",
       "3        One year                No  Bank transfer (automatic)   \n",
       "4  Month-to-month               Yes           Electronic check   \n",
       "\n",
       "   Monthly_Charges Total_Charges Churn  \n",
       "0            29.85         29.85    No  \n",
       "1            56.95        1889.5    No  \n",
       "2            53.85        108.15   Yes  \n",
       "3            42.30       1840.75    No  \n",
       "4            70.70        151.65   Yes  "
      ]
     },
     "execution_count": 5,
     "metadata": {},
     "output_type": "execute_result"
    }
   ],
   "source": [
    "# df = df.iloc[:,1:]\n",
    "del df['customerID']\n",
    "df.head()"
   ]
  },
  {
   "cell_type": "markdown",
   "id": "nutritional-multimedia",
   "metadata": {},
   "source": [
    "Insert pie charts to view distribution."
   ]
  },
  {
   "cell_type": "code",
   "execution_count": 6,
   "id": "maritime-gospel",
   "metadata": {},
   "outputs": [
    {
     "name": "stdout",
     "output_type": "stream",
     "text": [
      "No     3641\n",
      "Yes    3403\n",
      "Name: Partner, dtype: int64 \n",
      "\n",
      "No     4933\n",
      "Yes    2111\n",
      "Name: Dependents, dtype: int64 \n",
      "\n",
      "0    5902\n",
      "1    1142\n",
      "Name: Senior_Citizen, dtype: int64 \n",
      "\n",
      "Yes    4172\n",
      "No     2872\n",
      "Name: Paperless_Billing, dtype: int64 \n",
      "\n",
      "No     5175\n",
      "Yes    1869\n",
      "Name: Churn, dtype: int64 \n",
      "\n"
     ]
    }
   ],
   "source": [
    "for inp in ['Partner','Dependents','Senior_Citizen', 'Paperless_Billing','Churn']:\n",
    "    print(df[inp].value_counts(),\"\\n\")"
   ]
  },
  {
   "cell_type": "markdown",
   "id": "ahead-influence",
   "metadata": {},
   "source": [
    "## Formatting of columns"
   ]
  },
  {
   "cell_type": "markdown",
   "id": "anonymous-kazakhstan",
   "metadata": {},
   "source": [
    "**Gender column**\n",
    "\n",
    "My biggest yet the silliest doubt. By giving value=1 for Female customers, will the model not get biased towards female customers? Shouldn't the values be -0.5 and 0.5 so that mean remains 0? "
   ]
  },
  {
   "cell_type": "code",
   "execution_count": 7,
   "id": "swiss-stress",
   "metadata": {},
   "outputs": [
    {
     "name": "stdout",
     "output_type": "stream",
     "text": [
      "0    3555\n",
      "1    3489\n",
      "Name: gender, dtype: int64\n"
     ]
    }
   ],
   "source": [
    "df['gender'].replace(\"Male\", 0,inplace=True)\n",
    "df['gender'].replace(\"Female\", 1,inplace=True)\n",
    "print(df['gender'].value_counts())"
   ]
  },
  {
   "cell_type": "markdown",
   "id": "prerequisite-curve",
   "metadata": {},
   "source": [
    "**Senior Citizen column**\n",
    "\n",
    "Lol, I accidently formatted the values and saved it in the source file once, so I wont need to format the values here again."
   ]
  },
  {
   "cell_type": "markdown",
   "id": "delayed-imaging",
   "metadata": {},
   "source": [
    "**Replacing categorical variable columns (with Yes/No responses)**\n",
    "\n",
    "Here, ordinal encoding could have been used but I prefer my plain, old Python."
   ]
  },
  {
   "cell_type": "code",
   "execution_count": 8,
   "id": "sharing-pilot",
   "metadata": {},
   "outputs": [
    {
     "name": "stdout",
     "output_type": "stream",
     "text": [
      "0    3641\n",
      "1    3403\n",
      "Name: Partner, dtype: int64\n",
      "0    4933\n",
      "1    2111\n",
      "Name: Dependents, dtype: int64\n",
      "1    6362\n",
      "0     682\n",
      "Name: Phone_Service, dtype: int64\n",
      "1    4172\n",
      "0    2872\n",
      "Name: Paperless_Billing, dtype: int64\n"
     ]
    }
   ],
   "source": [
    "df['Partner'].replace(\"No\", 0,inplace=True)\n",
    "df['Partner'].replace(\"Yes\", 1,inplace=True)\n",
    "print(df.Partner.value_counts())\n",
    "# Like JS, obj.key works in pandas\n",
    "\n",
    "df['Dependents'].replace(\"No\", 0,inplace=True)\n",
    "df['Dependents'].replace(\"Yes\", 1,inplace=True)\n",
    "print(df['Dependents'].value_counts())\n",
    "\n",
    "df['Phone_Service'].replace(\"No\", 0,inplace=True)\n",
    "df['Phone_Service'].replace(\"Yes\", 1,inplace=True)\n",
    "print(df['Phone_Service'].value_counts())\n",
    "\n",
    "df['Paperless_Billing'].replace(\"No\", 0,inplace=True)\n",
    "df['Paperless_Billing'].replace(\"Yes\", 1,inplace=True)\n",
    "print(df.Paperless_Billing.value_counts())"
   ]
  },
  {
   "cell_type": "markdown",
   "id": "eligible-newsletter",
   "metadata": {},
   "source": [
    "*Add inputs based on distribution.*"
   ]
  },
  {
   "cell_type": "code",
   "execution_count": null,
   "id": "original-questionnaire",
   "metadata": {},
   "outputs": [],
   "source": [
    "# Replacing text values with ints in Multiple_Lines column\n",
    "df['Multiple_Lines'].replace(\"No\", 1,inplace=True)\n",
    "df['Multiple_Lines'].replace(\"Yes\", 2,inplace=True)\n",
    "df['Multiple_Lines'].replace(\"No phone service\", 0,inplace=True)\n",
    "\n",
    "# rename column to No.of phone lines\n",
    "df.rename(columns = {'Multiple_Lines':'Phone_Lines_No'}, inplace = True)\n",
    "# print(df.Phone_Lines_No.value_counts())\n",
    "\n",
    "# Deleting redundant Phone_service column\n",
    "df = df.drop(columns =['Phone_Service'])\n",
    "df['Multiple_Lines'].replace(\"No\", 0,inplace=True)\n",
    "df['Multiple_Lines'].replace(\"Yes\", 1,inplace=True)\n",
    "df['Multiple_Lines'].replace(\"No phone service\", 2,inplace=True)\n",
    "\n",
    "df['Internet_Service'].replace(\"DSL\", 2,inplace=True)\n",
    "df['Internet_Service'].replace(\"Fiber optic\", 1,inplace=True)\n",
    "df['Internet_Service'].replace(\"No\", 0,inplace=True)"
   ]
  },
  {
   "cell_type": "markdown",
   "id": "fleet-audit",
   "metadata": {},
   "source": [
    "**FORMATTING INTERNET SERVICE COLUMN**"
   ]
  },
  {
   "cell_type": "markdown",
   "id": "constitutional-humor",
   "metadata": {},
   "source": [
    "The following code is not used because it does not work in a loop and thus, is not selected for execution. However, as changes are done directly to the columns (instead of creating a new array like in the 2nd method), this method seems safer. "
   ]
  },
  {
   "cell_type": "markdown",
   "id": "bound-closer",
   "metadata": {},
   "source": [
    "### Introducing Plans column in place of Phone Lines and Internet Services columns"
   ]
  },
  {
   "cell_type": "code",
   "execution_count": null,
   "id": "worthy-calcium",
   "metadata": {},
   "outputs": [],
   "source": [
    "# p1_inp = [1 if df['Phone_Lines_No'][x] == 0 and df['Internet_Service'][x] == 1 else 0 for x in range(7044)]\n",
    "# df.insert(5,'DSL-0',p1_inp)\n",
    "# p2_inp = [1 if df['Phone_Lines_No'][x] == 1 and df['Internet_Service'][x] == 1 else 0 for x in range(7044)]\n",
    "# df.insert(6,'DSL-1',p2_inp)\n",
    "# p3_inp = [1 if df['Phone_Lines_No'][x] == 1 and df['Internet_Service'][x] == 0 else 0 for x in range(7044)]\n",
    "# df.insert(7,'NoNet-1',p3_inp)\n",
    "# p4_inp = [1 if df['Phone_Lines_No'][x] == 2 and df['Internet_Service'][x] == 0 else 0 for x in range(7044)]\n",
    "# df.insert(8,'NoNet-2',p4_inp)\n",
    "# p5_inp = [1 if df['Phone_Lines_No'][x] == 1 and df['Internet_Service'][x] == 2 else 0 for x in range(7044)]\n",
    "# df.insert(9,'FO-1',p5_inp)\n",
    "# p6_inp = [1 if df['Phone_Lines_No'][x] == 2 and df['Internet_Service'][x] == 2 else 0 for x in range(7044)]\n",
    "# df.insert(10,'FO-2',p6_inp)\n",
    "# print(p5_inp.count(1) + p6_inp.count(1))\n",
    "# del df['Internet_Service']\n",
    "# del df['Phone_Lines_No']"
   ]
  },
  {
   "cell_type": "markdown",
   "id": "dirty-stand",
   "metadata": {},
   "source": [
    "**Introducing the Plans column**"
   ]
  },
  {
   "cell_type": "code",
   "execution_count": null,
   "id": "coastal-connecticut",
   "metadata": {},
   "outputs": [],
   "source": [
    "plan = []\n",
    "for x in range(7044):\n",
    "    if df['Phone_Lines_No'][x] == 1 and df['Internet_Service'][x] == 0:\n",
    "        plan.append('NoInt-1')\n",
    "    elif df['Phone_Lines_No'][x] == 2 and df['Internet_Service'][x] == 0:\n",
    "        plan.append('NoInt-2')\n",
    "    elif df['Phone_Lines_No'][x] == 0 and df['Internet_Service'][x] == 1:\n",
    "        plan.append('DSL-0')\n",
    "    elif df['Phone_Lines_No'][x] == 1 and df['Internet_Service'][x] == 1:\n",
    "        plan.append('DSL-1')\n",
    "    elif df['Phone_Lines_No'][x] == 2 and df['Internet_Service'][x] == 1:\n",
    "        plan.append('DSL-2')\n",
    "    elif df['Phone_Lines_No'][x] == 1 and df['Internet_Service'][x] == 2:\n",
    "        plan.append('FO-1')\n",
    "    else:\n",
    "        plan.append('FO-2')\n",
    "df.insert(6,'Plan',plan)\n",
    "df.head()"
   ]
  },
  {
   "cell_type": "code",
   "execution_count": null,
   "id": "applicable-factor",
   "metadata": {},
   "outputs": [],
   "source": [
    "del df['Phone_Lines_No']\n",
    "del df['Internet_Service']"
   ]
  },
  {
   "cell_type": "markdown",
   "id": "declared-library",
   "metadata": {},
   "source": [
    "**Formatting columns that have 3 possible values**\n",
    "\n",
    "Three possible cases exist:\n",
    "1. Two of the possible values can be clubbed into one value\n",
    "2. The possible values can be compared/ranked based on their value\n",
    "3. There is no hierarchy between the three possible values. \n",
    "\n",
    "<u><strong>Case 1:</strong>Two of the possible values can be clubbed into one value</u>\n",
    "\n",
    "In case of the six Internet Features variables column, two values (No, No Internet Service) have been clubbed together. (Just a hypothesis)"
   ]
  },
  {
   "cell_type": "code",
   "execution_count": 9,
   "id": "shaped-configuration",
   "metadata": {},
   "outputs": [],
   "source": [
    "df['Online_Security'].replace(\"No\", 0,inplace=True)\n",
    "df['Online_Security'].replace(\"Yes\", 1,inplace=True)\n",
    "df['Online_Security'].replace(\"No internet service\", 0,inplace=True)\n",
    "\n",
    "df['Online_Backup'].replace(\"No\", 0,inplace=True)\n",
    "df['Online_Backup'].replace(\"Yes\", 1,inplace=True)\n",
    "df['Online_Backup'].replace(\"No internet service\", 0,inplace=True)\n",
    "\n",
    "df['Device_Protection'].replace(\"No\", 0,inplace=True)\n",
    "df['Device_Protection'].replace(\"Yes\", 1,inplace=True)\n",
    "df['Device_Protection'].replace(\"No internet service\", 0,inplace=True)\n",
    "\n",
    "df['Tech_Support'].replace(\"No\", 0,inplace=True)\n",
    "df['Tech_Support'].replace(\"Yes\", 1,inplace=True)\n",
    "df['Tech_Support'].replace(\"No internet service\", 0,inplace=True)\n",
    "\n",
    "df['Streaming_TV'].replace(\"No\", 0,inplace=True)\n",
    "df['Streaming_TV'].replace(\"Yes\", 1,inplace=True)\n",
    "df['Streaming_TV'].replace(\"No internet service\", 0,inplace=True)\n",
    "\n",
    "df['Streaming_Movies'].replace(\"No\", 0,inplace=True)\n",
    "df['Streaming_Movies'].replace(\"Yes\", 1,inplace=True)\n",
    "df['Streaming_Movies'].replace(\"No internet service\", 0,inplace=True)"
   ]
  },
  {
   "cell_type": "code",
   "execution_count": 19,
   "id": "canadian-cheese",
   "metadata": {},
   "outputs": [
    {
     "name": "stdout",
     "output_type": "stream",
     "text": [
      "1    4172\n",
      "0    2872\n",
      "Name: Paperless_Billing, dtype: int64\n"
     ]
    }
   ],
   "source": []
  },
  {
   "cell_type": "markdown",
   "id": "human-amplifier",
   "metadata": {},
   "source": [
    "<u><strong>Case 2:</strong> The possible values can be compared/ranked based on their value</u>"
   ]
  },
  {
   "cell_type": "code",
   "execution_count": 10,
   "id": "inner-haiti",
   "metadata": {},
   "outputs": [],
   "source": [
    "df['Contract'].replace(\"Month-to-month\", 0,inplace=True)\n",
    "df['Contract'].replace(\"One year\", 1,inplace=True)\n",
    "df['Contract'].replace(\"Two year\", 2,inplace=True)"
   ]
  },
  {
   "cell_type": "markdown",
   "id": "simplified-beauty",
   "metadata": {},
   "source": [
    "### OneHotEncoding for columns that do not have any order"
   ]
  },
  {
   "cell_type": "code",
   "execution_count": null,
   "id": "concrete-egyptian",
   "metadata": {},
   "outputs": [],
   "source": [
    "df['Payment_Method'].replace(\"Electronic check\", 0,inplace=True)\n",
    "df['Payment_Method'].replace(\"Mailed check\", 1,inplace=True)\n",
    "df['Payment_Method'].replace(\"Bank transfer (automatic)\", 2,inplace=True)\n",
    "df['Payment_Method'].replace(\"Credit card (automatic)\", 3,inplace=True)"
   ]
  },
  {
   "cell_type": "markdown",
   "id": "chinese-montgomery",
   "metadata": {},
   "source": [
    "### Number of features subscribed for"
   ]
  },
  {
   "cell_type": "code",
   "execution_count": null,
   "id": "familiar-wildlife",
   "metadata": {},
   "outputs": [],
   "source": [
    "# features = [(df['Online_Backup'][x]+df['Online_Security'][x]+df['Device_Protection'][x]+df['Streaming_Movies'][x]+df['Streaming_TV'][x]+df['Tech_Support'][x]) for x in range(7044)]\n",
    "# df.insert(12,'No_of_Features',features)\n",
    "# df.head()"
   ]
  },
  {
   "cell_type": "markdown",
   "id": "posted-sampling",
   "metadata": {},
   "source": [
    "**PAYMENT METHOD**"
   ]
  },
  {
   "cell_type": "code",
   "execution_count": 8,
   "id": "intermediate-federation",
   "metadata": {},
   "outputs": [],
   "source": [
    "print(df['Payment_Method'].value_counts())\n",
    "\n",
    "echeck_inp = [1 if x == 3 else 0 for x in df['Payment_Method']]\n",
    "df.insert(21,'E_check',echeck_inp)\n",
    "# print(df.E_check.value_counts())\n",
    "\n",
    "bank_trans_inp = [1 if x == 1 else 0 for x in df['Payment_Method']]\n",
    "df.insert(22,'Bank_Trans',bank_trans_inp)\n",
    "# print(df.Bank_Trans.value_counts())\n",
    "\n",
    "ccard_inp = [1 if x == 2 else 0 for x in df['Payment_Method']]\n",
    "df.insert(23,'Credit_Card',ccard_inp)\n",
    "# print(df.Credit_Card.value_counts())\n",
    "\n",
    "mcheck_inp = [1 if x == 0 else 0 for x in df['Payment_Method']]\n",
    "df.insert(24,'M_check',mcheck_inp)\n",
    "# print(df.M_check.value_counts())\n",
    "\n",
    "del df['Payment_Method']\n",
    "df.shape"
   ]
  },
  {
   "cell_type": "markdown",
   "id": "reflected-allergy",
   "metadata": {},
   "source": [
    "**Churn Column**\n",
    "\n",
    "The main column. The distribution means the classification would be imbalanced and thus, very difficult."
   ]
  },
  {
   "cell_type": "code",
   "execution_count": 20,
   "id": "preliminary-machinery",
   "metadata": {},
   "outputs": [
    {
     "name": "stdout",
     "output_type": "stream",
     "text": [
      "0    5175\n",
      "1    1869\n",
      "Name: Churn, dtype: int64\n"
     ]
    }
   ],
   "source": [
    "df['Churn'].replace(\"No\", 0,inplace=True)\n",
    "df['Churn'].replace(\"Yes\", 1,inplace=True)\n",
    "print(df.Churn.value_counts())"
   ]
  },
  {
   "cell_type": "markdown",
   "id": "animal-indiana",
   "metadata": {},
   "source": [
    "### Normalization"
   ]
  },
  {
   "cell_type": "code",
   "execution_count": 10,
   "id": "administrative-falls",
   "metadata": {},
   "outputs": [],
   "source": [
    "# min_max_scaler = MinMaxScaler()\n",
    "# df = min_max_scaler.fit_transform(df)\n",
    "# df = pd.DataFrame(df, columns = df.columns)"
   ]
  }
 ],
 "metadata": {
  "kernelspec": {
   "display_name": "Python 3",
   "language": "python",
   "name": "python3"
  },
  "language_info": {
   "codemirror_mode": {
    "name": "ipython",
    "version": 3
   },
   "file_extension": ".py",
   "mimetype": "text/x-python",
   "name": "python",
   "nbconvert_exporter": "python",
   "pygments_lexer": "ipython3",
   "version": "3.9.1"
  }
 },
 "nbformat": 4,
 "nbformat_minor": 5
}
